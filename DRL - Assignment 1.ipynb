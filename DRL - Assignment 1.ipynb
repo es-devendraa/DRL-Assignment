{
 "cells": [
  {
   "cell_type": "code",
   "execution_count": null,
   "id": "90c84a39",
   "metadata": {},
   "outputs": [],
   "source": [
    "# Basic array creation\n",
    "\n",
    "import numpy as np\n",
    "n = np.linspace(0, 1, 10, endpoint=True)[1:-1]   \n",
    "print(n)"
   ]
  },
  {
   "cell_type": "code",
   "execution_count": 6,
   "id": "29b30607",
   "metadata": {},
   "outputs": [
    {
     "name": "stdout",
     "output_type": "stream",
     "text": [
      "[93 15 36 68 13  3 74 17 21 32 81  7  5 46 93 62 24 56 14 91]\n"
     ]
    }
   ],
   "source": [
    "n = np.random.randint(0,100, size=20, dtype=int)\n",
    "print(n)"
   ]
  },
  {
   "cell_type": "code",
   "execution_count": 8,
   "id": "4cae24ba",
   "metadata": {},
   "outputs": [
    {
     "name": "stdout",
     "output_type": "stream",
     "text": [
      "[[7 7 7 7]\n",
      " [7 7 7 7]\n",
      " [7 7 7 7]\n",
      " [7 7 7 7]]\n"
     ]
    }
   ],
   "source": [
    "n = np.repeat(7,16).reshape(4,4)\n",
    "print(n)"
   ]
  },
  {
   "cell_type": "code",
   "execution_count": 9,
   "id": "153a407c",
   "metadata": {},
   "outputs": [
    {
     "name": "stdout",
     "output_type": "stream",
     "text": [
      "[3.14 3.14 3.14 3.14 3.14 3.14 3.14 3.14 3.14 3.14]\n"
     ]
    }
   ],
   "source": [
    "n = np.repeat(3.14, 10)\n",
    "print(n)"
   ]
  },
  {
   "cell_type": "code",
   "execution_count": 12,
   "id": "f964a9f6",
   "metadata": {},
   "outputs": [
    {
     "name": "stdout",
     "output_type": "stream",
     "text": [
      "[[1 2 3]\n",
      " [4 5 6]\n",
      " [7 8 9]]\n"
     ]
    }
   ],
   "source": [
    "n = np.arange(1,10).reshape(3,3)\n",
    "print(n)"
   ]
  },
  {
   "cell_type": "code",
   "execution_count": 13,
   "id": "707e6d48",
   "metadata": {},
   "outputs": [
    {
     "name": "stdout",
     "output_type": "stream",
     "text": [
      "SUM: [ 3  7 11 15 19]\n"
     ]
    }
   ],
   "source": [
    "# Array Operations\n",
    "\n",
    "a = np.array([1,3,5,7,9])\n",
    "b = np.array([2,4,6,8,10])\n",
    "sum_array = np.add(a, b)\n",
    "print(\"SUM:\", sum_array)\n"
   ]
  },
  {
   "cell_type": "code",
   "execution_count": 16,
   "id": "a88ab77d",
   "metadata": {},
   "outputs": [
    {
     "name": "stdout",
     "output_type": "stream",
     "text": [
      "PRODUCT: [ 6 12 18 24]\n"
     ]
    }
   ],
   "source": [
    "a = np.array([2,4,6,8])\n",
    "product_array = np.multiply(a, 3)\n",
    "print(\"PRODUCT:\", product_array)"
   ]
  },
  {
   "cell_type": "code",
   "execution_count": 17,
   "id": "aea1acc0",
   "metadata": {},
   "outputs": [
    {
     "name": "stdout",
     "output_type": "stream",
     "text": [
      "DIVISION: [ 5. 10. 15. 20.]\n"
     ]
    }
   ],
   "source": [
    "a = np.array([10,20,30,40])\n",
    "division_array = np.divide(a,2)\n",
    "print(\"DIVISION:\",division_array)"
   ]
  },
  {
   "cell_type": "code",
   "execution_count": 19,
   "id": "7ab304af",
   "metadata": {},
   "outputs": [
    {
     "name": "stdout",
     "output_type": "stream",
     "text": [
      "MOD: [1 1 3]\n"
     ]
    }
   ],
   "source": [
    "a = np.array([5,10,15])\n",
    "b = np.array([2,3,4])\n",
    "mod_array = np.remainder(a,b)\n",
    "print(\"MOD:\",mod_array)"
   ]
  },
  {
   "cell_type": "code",
   "execution_count": 20,
   "id": "4ec51e6b",
   "metadata": {},
   "outputs": [
    {
     "name": "stdout",
     "output_type": "stream",
     "text": [
      "DOT: 32\n"
     ]
    }
   ],
   "source": [
    "a = np.array([1,2,3])\n",
    "b = np.array([4,5,6])\n",
    "dot_product = np.dot(a,b)\n",
    "print(\"DOT:\", dot_product)"
   ]
  },
  {
   "cell_type": "code",
   "execution_count": 21,
   "id": "3cfac7e7",
   "metadata": {},
   "outputs": [
    {
     "name": "stdout",
     "output_type": "stream",
     "text": [
      "PRO: [[2 3]\n",
      " [4 5]]\n"
     ]
    }
   ],
   "source": [
    "# Matrix Multiplication\n",
    "a = ([2,3],[4,5])\n",
    "b = ([1,0],[0,1])\n",
    "mat_pro = np.dot(a,b)\n",
    "print(\"PRO:\", mat_pro)\n"
   ]
  },
  {
   "cell_type": "code",
   "execution_count": 23,
   "id": "6011e1c3",
   "metadata": {},
   "outputs": [
    {
     "name": "stdout",
     "output_type": "stream",
     "text": [
      "O/P: [[ 4]\n",
      " [10]\n",
      " [16]]\n"
     ]
    }
   ],
   "source": [
    "m =  np.arange(1,10).reshape(3,3)\n",
    "v = np.array([1,0,1]).reshape(3,1)\n",
    "output = np.dot(m,v)\n",
    "print(\"O/P:\",output)"
   ]
  },
  {
   "cell_type": "code",
   "execution_count": 26,
   "id": "40019078",
   "metadata": {},
   "outputs": [
    {
     "name": "stdout",
     "output_type": "stream",
     "text": [
      "O/P: [[43. 97. 73. 46.]\n",
      " [22. 41. 46. 57.]\n",
      " [54. 22. 75. 64.]\n",
      " [63. 10. 25. 96.]]\n"
     ]
    }
   ],
   "source": [
    "i = np.identity(4)\n",
    "r = np.random.randint(0,100, size=16, dtype=int).reshape(4,4)\n",
    "output = np.dot(i,r)\n",
    "print(\"O/P:\",output)"
   ]
  },
  {
   "cell_type": "code",
   "execution_count": 27,
   "id": "e7030d3e",
   "metadata": {},
   "outputs": [
    {
     "name": "stdout",
     "output_type": "stream",
     "text": [
      "O/P: [[ 30  24  18]\n",
      " [ 84  69  54]\n",
      " [138 114  90]]\n"
     ]
    }
   ],
   "source": [
    "a = np.array([[1, 2, 3], [4, 5, 6], [7, 8, 9]])\n",
    "b = np.array([[9, 8, 7], [6, 5, 4], [3, 2, 1]])\n",
    "output = np.dot(a,b)\n",
    "print(\"O/P:\",output)"
   ]
  },
  {
   "cell_type": "code",
   "execution_count": 29,
   "id": "ed60d918",
   "metadata": {},
   "outputs": [
    {
     "name": "stdout",
     "output_type": "stream",
     "text": [
      "O/P: [[22 25]\n",
      " [76 88]]\n"
     ]
    }
   ],
   "source": [
    "a = np.arange(0,6).reshape(2,3)\n",
    "b = np.arange(4,10).reshape(3,2)\n",
    "output = np.dot(a,b)\n",
    "print(\"O/P:\",output)"
   ]
  },
  {
   "cell_type": "code",
   "execution_count": 30,
   "id": "f2fff8e9",
   "metadata": {},
   "outputs": [
    {
     "name": "stdout",
     "output_type": "stream",
     "text": [
      "Broadcast: [ 5 15 25]\n"
     ]
    }
   ],
   "source": [
    "# Broadcasting\n",
    "a = np.array([10, 20, 30])\n",
    "scalar = 5\n",
    "broad_array = a - scalar\n",
    "print(\"Broadcast:\",broad_array )"
   ]
  },
  {
   "cell_type": "code",
   "execution_count": 31,
   "id": "30b62301",
   "metadata": {},
   "outputs": [
    {
     "name": "stdout",
     "output_type": "stream",
     "text": [
      "Broadcast: [[ 2  3  4]\n",
      " [ 6  7  8]\n",
      " [10 11 12]]\n"
     ]
    }
   ],
   "source": [
    "a = np.array([[1, 2, 3], [4, 5, 6], [7, 8, 9]])\n",
    "scalar = np.array([[1],[2],[3]])\n",
    "broad_array = a + scalar\n",
    "print(\"Broadcast:\",broad_array )"
   ]
  },
  {
   "cell_type": "code",
   "execution_count": 32,
   "id": "2e843f14",
   "metadata": {},
   "outputs": [
    {
     "name": "stdout",
     "output_type": "stream",
     "text": [
      "Broadcast: [[46.5 30.5 42.5  0.5]\n",
      " [38.  22.5  1.  40.5]\n",
      " [45.  12.5 27.  29.5]\n",
      " [36.  33.5 30.5 10. ]]\n"
     ]
    }
   ],
   "source": [
    "a = np.random.randint(0,100, size=16, dtype=int).reshape(4,4)\n",
    "scalar  = 2\n",
    "broad_array = a / scalar\n",
    "print(\"Broadcast:\",broad_array )"
   ]
  },
  {
   "cell_type": "code",
   "execution_count": 34,
   "id": "a01c7487",
   "metadata": {},
   "outputs": [
    {
     "name": "stdout",
     "output_type": "stream",
     "text": [
      "Broadcast: [[89 63 11]\n",
      " [52 52 11]\n",
      " [80 73 89]]\n"
     ]
    }
   ],
   "source": [
    "a = np.random.randint(0,100, size=9, dtype=int).reshape(3,3)\n",
    "scalar  = 3\n",
    "broad_array = a + scalar\n",
    "print(\"Broadcast:\",broad_array )"
   ]
  },
  {
   "cell_type": "code",
   "execution_count": 35,
   "id": "a38c7b6c",
   "metadata": {},
   "outputs": [
    {
     "name": "stdout",
     "output_type": "stream",
     "text": [
      "Broadcast: [[  6  16 183 372 340]\n",
      " [ 47 184 267 296  15]\n",
      " [ 96 146  66 316 115]\n",
      " [ 90  54  75  76 265]\n",
      " [ 46 182  63 188 230]]\n"
     ]
    }
   ],
   "source": [
    "a = np.array([1,2,3,4,5])\n",
    "scalar = np.random.randint(0,100, size=25, dtype=int).reshape(5,5)\n",
    "broad_array = a * scalar\n",
    "print(\"Broadcast:\",broad_array )"
   ]
  },
  {
   "cell_type": "code",
   "execution_count": 4,
   "id": "fed05a72",
   "metadata": {},
   "outputs": [
    {
     "name": "stdout",
     "output_type": "stream",
     "text": [
      "MED: 5.5\n"
     ]
    }
   ],
   "source": [
    "# Statistical Operations\n",
    "import numpy as np\n",
    "a = np.array([1, 2, 3, 4, 5, 6, 7, 8, 9, 10])\n",
    "med = np.median(a)\n",
    "print(\"MED:\", med)"
   ]
  },
  {
   "cell_type": "code",
   "execution_count": 10,
   "id": "e0dedd8c",
   "metadata": {},
   "outputs": [
    {
     "name": "stdout",
     "output_type": "stream",
     "text": [
      "MODE: ModeResult(mode=array([4]), count=array([3]))\n"
     ]
    }
   ],
   "source": [
    "from scipy import stats\n",
    "a = np.array([1, 2, 2, 3, 4, 4, 4, 5, 6])\n",
    "mode_array = stats.mode(a)\n",
    "print(\"MODE:\", mode_array)"
   ]
  },
  {
   "cell_type": "code",
   "execution_count": 11,
   "id": "9329d13c",
   "metadata": {},
   "outputs": [
    {
     "name": "stdout",
     "output_type": "stream",
     "text": [
      "RANGE: 40\n"
     ]
    }
   ],
   "source": [
    "a = np.array([10, 20, 30, 40, 50])\n",
    "range_array = np.ptp(a)\n",
    "print(\"RANGE:\",range_array )"
   ]
  },
  {
   "cell_type": "code",
   "execution_count": 13,
   "id": "a71e3e5b",
   "metadata": {},
   "outputs": [
    {
     "name": "stdout",
     "output_type": "stream",
     "text": [
      "PERCENTILE: 3.25\n"
     ]
    }
   ],
   "source": [
    "a = np.array([1, 2, 3, 4, 5, 6, 7, 8, 9, 10])\n",
    "percentile_array = np.percentile(a,25)\n",
    "print(\"PERCENTILE:\",percentile_array )"
   ]
  },
  {
   "cell_type": "code",
   "execution_count": 14,
   "id": "7f016dd6",
   "metadata": {},
   "outputs": [
    {
     "name": "stdout",
     "output_type": "stream",
     "text": [
      "CORR_COEF: [[1. 1.]\n",
      " [1. 1.]]\n"
     ]
    }
   ],
   "source": [
    "import numpy as np\n",
    "x = np.array([1, 2, 3, 4, 5])\n",
    "y = np.array([2,4, 6, 8, 10])\n",
    "corr_coef = np.corrcoef(x,y)\n",
    "print(\"CORR_COEF:\",corr_coef)"
   ]
  },
  {
   "cell_type": "code",
   "execution_count": 16,
   "id": "3fb2569b",
   "metadata": {},
   "outputs": [
    {
     "name": "stdout",
     "output_type": "stream",
     "text": [
      "[[ 1  2  3  4]\n",
      " [ 5  6  7  8]\n",
      " [ 9 10 11 12]]\n"
     ]
    }
   ],
   "source": [
    "# Reshaping Arrays\n",
    "\n",
    "a = np.array([1,2,3,4,5,6,7,8,9,10,11,12]).reshape(3,4)\n",
    "print(a)\n"
   ]
  },
  {
   "cell_type": "code",
   "execution_count": 20,
   "id": "90a98c88",
   "metadata": {},
   "outputs": [
    {
     "name": "stdout",
     "output_type": "stream",
     "text": [
      "[[44 81]\n",
      " [21 93]\n",
      " [78 79]\n",
      " [95 84]\n",
      " [20 98]\n",
      " [48 61]]\n",
      "\n",
      "\n",
      "[[44 81 21 93]\n",
      " [78 79 95 84]\n",
      " [20 98 48 61]]\n"
     ]
    }
   ],
   "source": [
    "a = np.random.randint(0,100, size=12, dtype=int).reshape(6,2)\n",
    "print(a)\n",
    "print(\"\\n\")\n",
    "b = a.reshape(3,4)\n",
    "print(b)"
   ]
  },
  {
   "cell_type": "code",
   "execution_count": 21,
   "id": "51febc39",
   "metadata": {},
   "outputs": [
    {
     "name": "stdout",
     "output_type": "stream",
     "text": [
      "[[46  4  3 20]\n",
      " [13 12 41 91]\n",
      " [57 55 49 42]\n",
      " [79 88 61 71]]\n",
      "\n",
      "\n",
      "[46  4  3 20 13 12 41 91 57 55 49 42 79 88 61 71]\n"
     ]
    }
   ],
   "source": [
    "a = np.random.randint(0,100, size=16, dtype=int).reshape(4,4)\n",
    "print(a)\n",
    "print(\"\\n\")\n",
    "b = a.flatten()\n",
    "print(b)"
   ]
  },
  {
   "cell_type": "code",
   "execution_count": 22,
   "id": "3f928c1a",
   "metadata": {},
   "outputs": [
    {
     "name": "stdout",
     "output_type": "stream",
     "text": [
      "[[[36 71  6 18]\n",
      "  [15 99 71 96]\n",
      "  [63 90 53 95]]\n",
      "\n",
      " [[49 57 90 43]\n",
      "  [23  2 37 27]\n",
      "  [36 35 85 63]]]\n",
      "\n",
      "\n",
      "[[[36 71]\n",
      "  [ 6 18]\n",
      "  [15 99]]\n",
      "\n",
      " [[71 96]\n",
      "  [63 90]\n",
      "  [53 95]]\n",
      "\n",
      " [[49 57]\n",
      "  [90 43]\n",
      "  [23  2]]\n",
      "\n",
      " [[37 27]\n",
      "  [36 35]\n",
      "  [85 63]]]\n"
     ]
    }
   ],
   "source": [
    "a = np.random.randint(0,100, size=24, dtype=int).reshape(2,3,4)\n",
    "print(a)\n",
    "print(\"\\n\")\n",
    "b = a.reshape(4,3,2)\n",
    "print(b)"
   ]
  },
  {
   "cell_type": "code",
   "execution_count": 23,
   "id": "296393af",
   "metadata": {},
   "outputs": [
    {
     "name": "stdout",
     "output_type": "stream",
     "text": [
      "[[1 2 3 4]]\n"
     ]
    }
   ],
   "source": [
    "a = np.array([1,2,3,4])\n",
    "b =  a.reshape(1,4)\n",
    "print(b)"
   ]
  },
  {
   "cell_type": "code",
   "execution_count": 24,
   "id": "88f3452a",
   "metadata": {},
   "outputs": [
    {
     "name": "stdout",
     "output_type": "stream",
     "text": [
      "DIV: [0.5        0.75       0.83333333]\n"
     ]
    }
   ],
   "source": [
    "# Element-wise Operations\n",
    "a = np.array([1,3,5])\n",
    "b = np.array([2,4,6])\n",
    "div_arr = a / b\n",
    "print(\"DIV:\", div_arr)"
   ]
  },
  {
   "cell_type": "code",
   "execution_count": 30,
   "id": "4887bf39",
   "metadata": {},
   "outputs": [
    {
     "name": "stdout",
     "output_type": "stream",
     "text": [
      "mod: [0 1 1]\n"
     ]
    }
   ],
   "source": [
    "a = np.array([2, 4, 6])\n",
    "b = np.array([1, 3, 5])\n",
    "mod_arr = np.remainder(a,b)\n",
    "print(\"mod:\", mod_arr)"
   ]
  },
  {
   "cell_type": "code",
   "execution_count": 31,
   "id": "b0ec1616",
   "metadata": {},
   "outputs": [
    {
     "name": "stdout",
     "output_type": "stream",
     "text": [
      "[11 12 13 14 15]\n"
     ]
    }
   ],
   "source": [
    "a = np.array([1, 2, 3, 4, 5])\n",
    "scalar = 10\n",
    "add_arr = a + 10\n",
    "print(add_arr)"
   ]
  },
  {
   "cell_type": "code",
   "execution_count": 32,
   "id": "0d21d264",
   "metadata": {},
   "outputs": [
    {
     "name": "stdout",
     "output_type": "stream",
     "text": [
      "[ 5 15 25 35 45]\n"
     ]
    }
   ],
   "source": [
    "a = np.array([10, 20, 30, 40, 50])\n",
    "scalar = 5\n",
    "sub_arr = a -5\n",
    "print(sub_arr)"
   ]
  },
  {
   "cell_type": "code",
   "execution_count": 35,
   "id": "08c74526",
   "metadata": {},
   "outputs": [
    {
     "name": "stdout",
     "output_type": "stream",
     "text": [
      "[ 1  4  9 16 25]\n"
     ]
    }
   ],
   "source": [
    "a = np.array([1, 2, 3, 4, 5])\n",
    "squa_arr = np.square(a)\n",
    "print(squa_arr)"
   ]
  },
  {
   "cell_type": "code",
   "execution_count": 37,
   "id": "1817334a",
   "metadata": {},
   "outputs": [
    {
     "name": "stdout",
     "output_type": "stream",
     "text": [
      "[[[ 1  2  3]\n",
      "  [ 4  5  6]]\n",
      "\n",
      " [[ 7  8  9]\n",
      "  [10 11 12]]]\n",
      "11\n"
     ]
    }
   ],
   "source": [
    "# Slicing and Indexing\n",
    "a = np.array([[[1, 2, 3], [4, 5, 6]], [[7, 8, 9], [10, 11, 12]]])\n",
    "element = a[1,1,1]\n",
    "print(a)\n",
    "print(element)"
   ]
  },
  {
   "cell_type": "code",
   "execution_count": 38,
   "id": "6f5fd933",
   "metadata": {},
   "outputs": [
    {
     "name": "stdout",
     "output_type": "stream",
     "text": [
      "First layer:\n",
      "[[1 2 3]\n",
      " [4 5 6]]\n"
     ]
    }
   ],
   "source": [
    "array_3d = np.array([[[1, 2, 3], [4, 5, 6]], \n",
    "                     [[7, 8, 9], [10, 11, 12]]])\n",
    "\n",
    "first_layer = array_3d[0]\n",
    "print(\"First layer:\")\n",
    "print(first_layer)"
   ]
  },
  {
   "cell_type": "code",
   "execution_count": 39,
   "id": "3b045a80",
   "metadata": {},
   "outputs": [
    {
     "name": "stdout",
     "output_type": "stream",
     "text": [
      "Last row:\n",
      "[70 80 90]\n"
     ]
    }
   ],
   "source": [
    "\n",
    "array_2d = np.array([[10, 20, 30], \n",
    "                     [40, 50, 60], \n",
    "                     [70, 80, 90]])\n",
    "last_row = array_2d[-1]\n",
    "print(\"Last row:\")\n",
    "print(last_row)"
   ]
  },
  {
   "cell_type": "code",
   "execution_count": 40,
   "id": "a99cea9d",
   "metadata": {},
   "outputs": [
    {
     "name": "stdout",
     "output_type": "stream",
     "text": [
      "First column:\n",
      "[10 40 70]\n"
     ]
    }
   ],
   "source": [
    "array_2d = np.array([[10, 20, 30], \n",
    "                     [40, 50, 60], \n",
    "                     [70, 80, 90]])\n",
    "first_column = array_2d[:, 0]\n",
    "print(\"First column:\")\n",
    "print(first_column)\n"
   ]
  },
  {
   "cell_type": "code",
   "execution_count": 41,
   "id": "021c488b",
   "metadata": {},
   "outputs": [
    {
     "name": "stdout",
     "output_type": "stream",
     "text": [
      "Sliced array:\n",
      "[[50 60]\n",
      " [80 90]]\n"
     ]
    }
   ],
   "source": [
    "\n",
    "array_2d = np.array([[10, 20, 30], \n",
    "                     [40, 50, 60], \n",
    "                     [70, 80, 90]])\n",
    "sliced_array = array_2d[-2:, -2:]\n",
    "print(\"Sliced array:\")\n",
    "print(sliced_array)\n"
   ]
  },
  {
   "cell_type": "code",
   "execution_count": 48,
   "id": "ee62772b",
   "metadata": {},
   "outputs": [
    {
     "name": "stdout",
     "output_type": "stream",
     "text": [
      "Random array:\n",
      "[0.85539877 0.83893658 0.03731509 0.04356148 0.03256618 0.87597056\n",
      " 0.75103    0.16024862 0.21439569 0.74909319 0.47614947 0.54854128\n",
      " 0.99618679 0.9254123  0.11540276 0.37116289 0.29439623 0.441144\n",
      " 0.92497372 0.13360865]\n"
     ]
    }
   ],
   "source": [
    "# Creating Random Arrays\n",
    "random_array = np.random.rand(20)\n",
    "print(\"Random array:\")\n",
    "print(random_array)\n"
   ]
  },
  {
   "cell_type": "code",
   "execution_count": 49,
   "id": "2c401b27",
   "metadata": {},
   "outputs": [
    {
     "name": "stdout",
     "output_type": "stream",
     "text": [
      "4x4 array:\n",
      "[[14 15 13 19]\n",
      " [20 13 15 19]\n",
      " [13 14 19 15]\n",
      " [13 14 13 20]]\n"
     ]
    }
   ],
   "source": [
    "random_array = np.random.randint(10, 21, size=(4, 4))\n",
    "print(\"4x4 array:\")\n",
    "print(random_array)\n"
   ]
  },
  {
   "cell_type": "code",
   "execution_count": 50,
   "id": "560b197c",
   "metadata": {},
   "outputs": [
    {
     "name": "stdout",
     "output_type": "stream",
     "text": [
      "3x3 array:\n",
      "[[ 0.37638648  0.22943997  0.77470063]\n",
      " [ 0.13847811 -0.11176025  0.01759227]\n",
      " [ 0.4010829   0.70465774  0.67107276]]\n"
     ]
    }
   ],
   "source": [
    "random_array = np.random.uniform(-1, 1, size=(3, 3))\n",
    "print(\"3x3 array:\")\n",
    "print(random_array)\n"
   ]
  },
  {
   "cell_type": "code",
   "execution_count": 51,
   "id": "ea2d069e",
   "metadata": {},
   "outputs": [
    {
     "name": "stdout",
     "output_type": "stream",
     "text": [
      "Array with 15 random values:\n",
      "[196 200 120 149 155 105 132 194 103 131 188 183 116 160 188]\n"
     ]
    }
   ],
   "source": [
    "random_array = np.random.randint(100, 201, size=15)\n",
    "print(\"Array with 15 random values:\")\n",
    "print(random_array)\n"
   ]
  },
  {
   "cell_type": "code",
   "execution_count": 52,
   "id": "975b3f43",
   "metadata": {},
   "outputs": [
    {
     "name": "stdout",
     "output_type": "stream",
     "text": [
      "5x5 array:\n",
      "[[1.69955378 7.19380678 9.90945128 0.86271757 9.81830894]\n",
      " [0.73191456 8.01827277 2.81643313 6.20856559 9.72938611]\n",
      " [0.23519406 9.86655305 8.15551459 4.49945323 1.18308752]\n",
      " [5.60046001 3.93003038 4.74397434 1.47902302 9.21089946]\n",
      " [6.81648511 8.81758683 2.25917386 5.30671001 3.52391139]]\n"
     ]
    }
   ],
   "source": [
    "random_array = np.random.uniform(0, 10, size=(5, 5))\n",
    "\n",
    "print(\"5x5 array:\")\n",
    "print(random_array)\n"
   ]
  },
  {
   "cell_type": "code",
   "execution_count": 53,
   "id": "7b8b0a31",
   "metadata": {},
   "outputs": [
    {
     "name": "stdout",
     "output_type": "stream",
     "text": [
      "Vertically stacked array:\n",
      "[[1 2]\n",
      " [3 4]\n",
      " [5 6]\n",
      " [7 8]]\n"
     ]
    }
   ],
   "source": [
    "# Stacking and Concatenating Arrays\n",
    "\n",
    "a = np.array([[1, 2], [3, 4]])\n",
    "b = np.array([[5, 6], [7, 8]])\n",
    "stacked_array = np.vstack((a, b))\n",
    "print(\"Vertically stacked array:\")\n",
    "print(stacked_array)\n"
   ]
  },
  {
   "cell_type": "code",
   "execution_count": 54,
   "id": "dfc453ca",
   "metadata": {},
   "outputs": [
    {
     "name": "stdout",
     "output_type": "stream",
     "text": [
      "[[1 2 5 6]\n",
      " [3 4 7 8]]\n"
     ]
    }
   ],
   "source": [
    "a = np.array([[1, 2], [3, 4]])\n",
    "b = np.array([[5, 6], [7, 8]])\n",
    "result = np.hstack((a, b))\n",
    "print(result)\n"
   ]
  },
  {
   "cell_type": "code",
   "execution_count": 55,
   "id": "436c4c69",
   "metadata": {},
   "outputs": [
    {
     "name": "stdout",
     "output_type": "stream",
     "text": [
      "[1 2 3 4 5 6]\n"
     ]
    }
   ],
   "source": [
    "a = np.array([1, 2, 3])\n",
    "b = np.array([4, 5, 6])\n",
    "result = np.concatenate((a, b))\n",
    "print(result)\n"
   ]
  },
  {
   "cell_type": "code",
   "execution_count": 56,
   "id": "012ba56d",
   "metadata": {},
   "outputs": [
    {
     "name": "stdout",
     "output_type": "stream",
     "text": [
      "[[ 1  2  3]\n",
      " [ 4  5  6]\n",
      " [ 7  8  9]\n",
      " [10 11 12]\n",
      " [13 14 15]\n",
      " [16 17 18]]\n"
     ]
    }
   ],
   "source": [
    "a = np.array([[1, 2, 3], [4, 5, 6], [7, 8, 9]])\n",
    "b = np.array([[10, 11, 12], [13, 14, 15], [16, 17, 18]])\n",
    "result = np.vstack((a, b))\n",
    "print(result)\n"
   ]
  },
  {
   "cell_type": "code",
   "execution_count": 57,
   "id": "2641704b",
   "metadata": {},
   "outputs": [
    {
     "name": "stdout",
     "output_type": "stream",
     "text": [
      "[[ 1  2  3 10 11 12]\n",
      " [ 4  5  6 13 14 15]\n",
      " [ 7  8  9 16 17 18]]\n"
     ]
    }
   ],
   "source": [
    "a = np.array([[1, 2, 3], [4, 5, 6], [7, 8, 9]])\n",
    "b = np.array([[10, 11, 12], [13, 14, 15], [16, 17, 18]])\n",
    "result = np.hstack((a, b))\n",
    "print(result)\n"
   ]
  },
  {
   "cell_type": "code",
   "execution_count": null,
   "id": "17b55367",
   "metadata": {},
   "outputs": [],
   "source": []
  }
 ],
 "metadata": {
  "kernelspec": {
   "display_name": "Python 3 (ipykernel)",
   "language": "python",
   "name": "python3"
  },
  "language_info": {
   "codemirror_mode": {
    "name": "ipython",
    "version": 3
   },
   "file_extension": ".py",
   "mimetype": "text/x-python",
   "name": "python",
   "nbconvert_exporter": "python",
   "pygments_lexer": "ipython3",
   "version": "3.9.7"
  }
 },
 "nbformat": 4,
 "nbformat_minor": 5
}
